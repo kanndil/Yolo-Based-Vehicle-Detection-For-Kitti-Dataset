{
 "cells": [
  {
   "cell_type": "markdown",
   "metadata": {
    "id": "9jFNAErIiZjD"
   },
   "source": [
    "# Vehicle detection using YOLO 8 and YOLO 11 on the kitti dataset\n",
    "\n",
    "> ❗Do not forget to set the Runtime to **T4 GPU** when using Google Colab\n",
    "\n",
    "> ❗This notebook will download more than **23 Gb** of data\n",
    "\n",
    "> ❗This notebook will use more than **30 Gb** of storage\n",
    "\n",
    "> ❗This notebook will take more than **80 hours** to run on an Nvidia RTX 4070 CUDA enabled GPU\n",
    "\n"
   ]
  },
  {
   "metadata": {},
   "cell_type": "markdown",
   "source": "## Setup"
  },
  {
   "metadata": {},
   "cell_type": "markdown",
   "source": "### Imports"
  },
  {
   "metadata": {},
   "cell_type": "code",
   "source": "!pip install ultralytics -q",
   "outputs": [],
   "execution_count": null
  },
  {
   "metadata": {},
   "cell_type": "code",
   "source": [
    "from ultralytics import YOLO\n",
    "import numpy as np\n",
    "import os\n",
    "import matplotlib.pyplot as plt\n",
    "from pathlib import Path\n",
    "import json\n",
    "from sklearn.model_selection import train_test_split\n",
    "from tqdm.auto import tqdm\n",
    "import pandas as pd\n",
    "from PIL import Image\n",
    "import kagglehub\n",
    "import shutil"
   ],
   "outputs": [],
   "execution_count": null
  },
  {
   "metadata": {},
   "cell_type": "markdown",
   "source": "### Consts"
  },
  {
   "cell_type": "code",
   "metadata": {
    "id": "kkdBjphk7U9i"
   },
   "source": [
    "# Set some useful const\n",
    "DATA_DIR = Path('data').resolve()\n",
    "KAGGLE_DIR = DATA_DIR / 'kaggle'\n",
    "WORKING_DIR = DATA_DIR / 'working'\n",
    "OUTPUT_DIR = DATA_DIR / 'output'\n",
    "RESULTS_DIR = DATA_DIR / 'results'\n",
    "\n",
    "kitti_path = KAGGLE_DIR / 'kitti-dataset'\n",
    "kitti_yolo_path = KAGGLE_DIR / 'kitti-dataset-yolo-format'"
   ],
   "outputs": [],
   "execution_count": null
  },
  {
   "metadata": {},
   "cell_type": "markdown",
   "source": [
    "**Define labels that should be kept and their mappings**\n",
    "\n",
    "```PYTHON\n",
    "KEEP_LABELS = {\n",
    "  '[Current class id | str]': ('[Class name | str]', 'New class id (starting from 0) | str'),\n",
    "  }\n",
    "```\n",
    "\n",
    "Ex for only motor vehicles:\n",
    "```PYTHON\n",
    "KEEP_LABELS = {\n",
    "  '0': ('Car', '0'),\n",
    "  '2': ('Van', '1'),\n",
    "  '4': ('Truck', '2'),\n",
    "  }\n",
    "```"
   ]
  },
  {
   "metadata": {},
   "cell_type": "code",
   "source": [
    "KEEP_LABELS = {\n",
    "  '0': ('Car', '0'),\n",
    "  '2': ('Van', '1'),\n",
    "  '4': ('Truck', '2'),\n",
    "  }"
   ],
   "outputs": [],
   "execution_count": null
  },
  {
   "metadata": {},
   "cell_type": "code",
   "source": [
    "# Disable WANDB integration\n",
    "%env WANDB_DISABLED=True"
   ],
   "outputs": [],
   "execution_count": null
  },
  {
   "cell_type": "markdown",
   "metadata": {
    "id": "8UiPt9j60c9D"
   },
   "source": [
    "### Download datasets from kaggle\n",
    "\n",
    "**!! WARNING !! more than 22 Gb**"
   ]
  },
  {
   "metadata": {
    "colab": {
     "background_save": true,
     "base_uri": "https://localhost:8080/"
    },
    "id": "KHDMEv9Q3ZLH",
    "outputId": "e1f9699f-68fe-4f24-f848-71d8f72b0dfa"
   },
   "cell_type": "code",
   "source": [
    "# Download kitti dataset\n",
    "path = kagglehub.dataset_download('klemenko/kitti-dataset')\n",
    "print(\"Path to downloaded dataset:\", path)\n",
    "\n",
    "# Move files to kaggle directory\n",
    "kitti_path = shutil.move(path, KAGGLE_DIR / 'kitti-dataset')\n",
    "kitti_path = Path(kitti_path)\n",
    "print(\"Dataset moved to:\", kitti_path)"
   ],
   "outputs": [],
   "execution_count": null
  },
  {
   "metadata": {
    "colab": {
     "background_save": true
    },
    "id": "_7EJQwjF7xzv",
    "outputId": "4ab59794-247e-4761-95b2-b5ff730b60ec"
   },
   "cell_type": "code",
   "source": [
    "# Download kitti-yolo-labels dataset\n",
    "path = kagglehub.dataset_download('shreydan/kitti-dataset-yolo-format')\n",
    "print(\"Path to downloaded dataset:\", path)\n",
    "\n",
    "# Move files to kaggle directory\n",
    "kitti_yolo_path = shutil.move(path, KAGGLE_DIR / 'kitti-dataset-yolo-format')\n",
    "kitti_path = Path(kitti_yolo_path)\n",
    "print(\"Dataset moved to:\", kitti_yolo_path)"
   ],
   "outputs": [],
   "execution_count": null
  },
  {
   "cell_type": "markdown",
   "metadata": {
    "id": "3ovHwqaSiZjH"
   },
   "source": "### Preparing Dataset"
  },
  {
   "cell_type": "code",
   "metadata": {
    "colab": {
     "background_save": true
    },
    "id": "CCtQ6HkkiZjH",
    "outputId": "f6f1de0b-897b-42cd-bf6e-b88a01bd9c48"
   },
   "source": [
    "# Define image and label paths\n",
    "img_path = kitti_path / 'data_object_image_2' / 'training' / 'image_2'\n",
    "label_path = kitti_yolo_path / 'labels'"
   ],
   "outputs": [],
   "execution_count": null
  },
  {
   "metadata": {},
   "cell_type": "code",
   "source": [
    "# Get class definition\n",
    "with open(kitti_yolo_path / 'classes.json','r') as f:\n",
    "    classes = json.load(f)\n",
    "\n",
    "# Display classes\n",
    "classes"
   ],
   "outputs": [],
   "execution_count": null
  },
  {
   "cell_type": "code",
   "metadata": {
    "colab": {
     "background_save": true
    },
    "id": "ddu3F9MliZjH",
    "outputId": "e199eb4c-df95-4edf-a43b-179b4729ade0"
   },
   "source": [
    "# Get all image and label paths and pair them together\n",
    "ims = sorted(list(img_path.glob('*')))\n",
    "labels = sorted(list(label_path.glob('*')))\n",
    "pairs = list(zip(ims,labels))\n",
    "\n",
    "## Display to examples\n",
    "pairs[:2]"
   ],
   "outputs": [],
   "execution_count": null
  },
  {
   "cell_type": "markdown",
   "metadata": {
    "id": "aTOYi_SQiZjH"
   },
   "source": [
    "#### Preparing File Structure\n",
    "\n",
    "```\n",
    "/working\n",
    "    |\n",
    "    -train\n",
    "    |   |\n",
    "    |   -000000.png\n",
    "    |   -000000.txt\n",
    "    |   ...\n",
    "    |\n",
    "    -val\n",
    "      |\n",
    "      -000001.png\n",
    "      -000001.txt\n",
    "      ...\n",
    "```"
   ]
  },
  {
   "metadata": {},
   "cell_type": "markdown",
   "source": "##### Split dataset"
  },
  {
   "cell_type": "code",
   "metadata": {
    "colab": {
     "background_save": true
    },
    "id": "KInNdVc1iZjH",
    "outputId": "e934d957-b1f4-4a22-b2cb-c2a3d0e21943"
   },
   "source": [
    "# Split datatest into train and test\n",
    "train_dataset, test_dataset = train_test_split(pairs, test_size=0.1, shuffle=True)\n",
    "len(train_dataset), len(test_dataset)"
   ],
   "outputs": [],
   "execution_count": null
  },
  {
   "metadata": {},
   "cell_type": "markdown",
   "source": "##### Create directories"
  },
  {
   "cell_type": "code",
   "metadata": {
    "colab": {
     "background_save": true
    },
    "id": "kGLCZUZxiZjH"
   },
   "source": [
    "# create working directory and train / validation directories\n",
    "WORKING_DIR.mkdir(exist_ok=True)\n",
    "\n",
    "train_path = WORKING_DIR / 'train'\n",
    "train_path.mkdir(exist_ok=True)\n",
    "\n",
    "valid_path = WORKING_DIR / 'valid'\n",
    "valid_path.mkdir(exist_ok=True)"
   ],
   "outputs": [],
   "execution_count": null
  },
  {
   "metadata": {},
   "cell_type": "markdown",
   "source": "##### Copy files to directories"
  },
  {
   "cell_type": "code",
   "metadata": {
    "colab": {
     "background_save": true,
     "referenced_widgets": [
      "c3b598217b0140e0a84a3ac2e34ccff4"
     ]
    },
    "id": "IPBt8p8UiZjI",
    "outputId": "548a4036-7b18-4e77-fdbc-476da5794ae8"
   },
   "source": [
    "# Copy labels and images from train subset to train directory\n",
    "for t_img, t_lb in tqdm(train_dataset):\n",
    "    im_path = train_path / t_img.name\n",
    "    lb_path = train_path / t_lb.name\n",
    "    shutil.copy(t_img,im_path)\n",
    "    shutil.copy(t_lb,lb_path)"
   ],
   "outputs": [],
   "execution_count": null
  },
  {
   "cell_type": "code",
   "metadata": {
    "colab": {
     "background_save": true,
     "referenced_widgets": [
      "33e83f5f2ddd477795e8dc4259f6426d"
     ]
    },
    "id": "ya7oyFvGiZjI",
    "outputId": "ed71fb87-8a7f-47f1-8f6c-8c8a57d30f86"
   },
   "source": [
    "# copy labels and images from test subset to validation directory\n",
    "for t_img, t_lb in tqdm(test_dataset):\n",
    "    im_path = valid_path / t_img.name\n",
    "    lb_path = valid_path / t_lb.name\n",
    "    shutil.copy(t_img,im_path)\n",
    "    shutil.copy(t_lb,lb_path)"
   ],
   "outputs": [],
   "execution_count": null
  },
  {
   "metadata": {},
   "cell_type": "markdown",
   "source": "##### Clean up dataset from unwanted labels"
  },
  {
   "metadata": {},
   "cell_type": "code",
   "source": [
    "# Define a function cleanup the dataset from unwanted labels\n",
    "def filter_labels_from_label_files(directory, keep_labels):\n",
    "    \"\"\"Opens every .txt file in a directory and removes lines not starting with keys from keep_labels.\"\"\"\n",
    "    for filename in os.listdir(directory):\n",
    "        if filename.endswith('.txt'):\n",
    "            filepath = os.path.join(directory, filename)\n",
    "            with open(filepath, 'r') as f:\n",
    "                lines = f.readlines()\n",
    "            with open(filepath, 'w') as f:\n",
    "                for line in lines:\n",
    "                    parts = line.strip().split()\n",
    "                    if parts[0] in keep_labels:\n",
    "                        # Access second element of the tuple in the keep_labels dictionary where new label index is saved\n",
    "                        parts[0] = keep_labels[parts[0]][1]\n",
    "                        corrected_line = ' '.join(parts) + '\\n'\n",
    "                        f.write(corrected_line)"
   ],
   "outputs": [],
   "execution_count": null
  },
  {
   "metadata": {},
   "cell_type": "code",
   "source": [
    "# Cleanup the train dataset from unwanted labels\n",
    "filter_labels_from_label_files(train_path, KEEP_LABELS)"
   ],
   "outputs": [],
   "execution_count": null
  },
  {
   "cell_type": "code",
   "metadata": {
    "colab": {
     "background_save": true
    },
    "id": "OYuw5ZcRvtZh"
   },
   "source": [
    "# Cleanup the test dataset from unwanted labels\n",
    "filter_labels_from_label_files(valid_path, KEEP_LABELS)"
   ],
   "outputs": [],
   "execution_count": null
  },
  {
   "metadata": {},
   "cell_type": "markdown",
   "source": "#### Create YOLO YAML dataset description file"
  },
  {
   "cell_type": "code",
   "metadata": {
    "id": "y_SiB0AViZjI"
   },
   "source": [
    "# create yaml file for yolo\n",
    "yaml_file = 'names:\\n'\n",
    "yaml_file += '\\n'.join(f'  {value[1]}: {value[0]}' for key, value in KEEP_LABELS.items())\n",
    "yaml_file += f'\\ntrain: {str(train_path)}\\nval: {str(valid_path)}'\n",
    "with open(WORKING_DIR / 'kitti.yaml','w') as f:\n",
    "    f.write(yaml_file)"
   ],
   "outputs": [],
   "execution_count": null
  },
  {
   "metadata": {},
   "cell_type": "markdown",
   "source": ""
  },
  {
   "metadata": {},
   "cell_type": "markdown",
   "source": [
    "## Train Models\n",
    "\n",
    "!! WARNING !! model training takes around 20 hours per model on a high performance GPU (RTX 4070)\n",
    "\n",
    "Results are saved in the output directory under the respective model name ex: `data/output/yolo_8_n`"
   ]
  },
  {
   "metadata": {},
   "cell_type": "markdown",
   "source": [
    "Detection COCO 80 pre-trained classes\n",
    "\n",
    "| **Model**                                                                            | **Size (pixels)** | **mAPval 50-95** | **Speed CPU ONNX (ms)** | **params (M)** | **FLOPs (B)** |\n",
    "|--------------------------------------------------------------------------------------|-------------------|------------------|-------------------------|----------------|---------------|\n",
    "| [YOLOv8n](https://github.com/ultralytics/assets/releases/download/v8.2.0/yolov8n.pt) | 640               | 37.3             | 80.4                    | 3.2            | 8.7           |\n",
    "| [YOLOv8x](https://github.com/ultralytics/assets/releases/download/v8.2.0/yolov8x.pt) | 640               | 53.9             | 479.1                   | 68.2           | 257.8         |\n",
    "| [YOLO11n](https://github.com/ultralytics/assets/releases/download/v8.3.0/yolo11n.pt) | 640               | 39.5             | 56.1 ± 0.8              | 2.6            | 6.5           |\n",
    "| [YOLO11x](https://github.com/ultralytics/assets/releases/download/v8.3.0/yolo11x.pt) | 640               | 54.7             | 462.8 ± 6.7             | 56.9           | 194.9         |\n",
    "\n"
   ]
  },
  {
   "metadata": {},
   "cell_type": "markdown",
   "source": "#### Setup"
  },
  {
   "metadata": {},
   "cell_type": "code",
   "source": [
    "# Common arguments\n",
    "DEVICE = 0\n",
    "DATA = WORKING_DIR / 'kitti.yaml'\n",
    "MIXUP = 0.2\n",
    "MOSAIC = 0.2\n",
    "PRETRAINED = True\n",
    "\n",
    "RANDOM_PREDICTION_LIST = [test_dataset[idx][0] for idx in np.random.randint(0,len(test_dataset),(10,))]"
   ],
   "outputs": [],
   "execution_count": null
  },
  {
   "cell_type": "markdown",
   "metadata": {
    "id": "jxUET6r9iZjI"
   },
   "source": "#### YOLO v8 - N"
  },
  {
   "cell_type": "markdown",
   "metadata": {
    "id": "YzxV81gIwlr-"
   },
   "source": "##### Model definition"
  },
  {
   "cell_type": "code",
   "metadata": {
    "colab": {
     "base_uri": "https://localhost:8080/"
    },
    "id": "rpmCPariiZjI",
    "outputId": "189004a0-07a3-4a0d-af6c-499d38c06749"
   },
   "source": [
    "# Loading pretrained model yolo 8 N\n",
    "# Model is downloaded if it does not exist already\n",
    "model_yolo8_n = YOLO(WORKING_DIR / 'yolov8n.pt')"
   ],
   "outputs": [],
   "execution_count": null
  },
  {
   "cell_type": "markdown",
   "metadata": {
    "id": "M82xvN82iZjJ"
   },
   "source": "##### Training"
  },
  {
   "cell_type": "code",
   "metadata": {
    "colab": {
     "base_uri": "https://localhost:8080/"
    },
    "id": "yrSwiJpZiZjJ",
    "outputId": "0c808ef6-2ecb-46c1-dafd-76609fb24f08"
   },
   "source": [
    "yolo8_n_train_results = model_yolo8_n.train(\n",
    "    project=OUTPUT_DIR / 'yolo_8_n',\n",
    "    data=DATA,\n",
    "    epochs=300,\n",
    "    patience=15,\n",
    "    mixup=MIXUP,\n",
    "    mosaic=MOSAIC,\n",
    "    device=DEVICE,\n",
    "    pretrained=PRETRAINED,\n",
    ")"
   ],
   "outputs": [],
   "execution_count": null
  },
  {
   "cell_type": "markdown",
   "metadata": {
    "id": "UlvTdrIlxBg5"
   },
   "source": "##### Validation"
  },
  {
   "cell_type": "code",
   "metadata": {
    "colab": {
     "base_uri": "https://localhost:8080/"
    },
    "id": "ImJH083mxBg6",
    "outputId": "db5404f2-8ab1-4fe4-e478-a84226f9b3c3"
   },
   "source": "yolo8_n_valid_results = model_yolo8_n.val()",
   "outputs": [],
   "execution_count": null
  },
  {
   "metadata": {},
   "cell_type": "markdown",
   "source": "##### Sample predictions"
  },
  {
   "metadata": {},
   "cell_type": "code",
   "source": "yolo8_n_predictions = model_yolo8_n.predict(RANDOM_PREDICTION_LIST,save=True)",
   "outputs": [],
   "execution_count": null
  },
  {
   "metadata": {},
   "cell_type": "markdown",
   "source": "#### YOLO v8 - X"
  },
  {
   "metadata": {},
   "cell_type": "markdown",
   "source": "##### Model definition"
  },
  {
   "metadata": {},
   "cell_type": "code",
   "source": [
    "# Loading pretrained model yolo 8 X\n",
    "# Model is downloaded if it does not exist already\n",
    "model_yolo8_x = YOLO(WORKING_DIR / 'yolov8x.pt')"
   ],
   "outputs": [],
   "execution_count": null
  },
  {
   "metadata": {},
   "cell_type": "markdown",
   "source": "##### Training"
  },
  {
   "metadata": {},
   "cell_type": "code",
   "source": [
    "yolo8_x_train_results = model_yolo8_x.train(\n",
    "    project=OUTPUT_DIR / 'yolo_8_x',\n",
    "    data=DATA,\n",
    "    epochs=50,\n",
    "    patience=3,\n",
    "    mixup=MIXUP,\n",
    "    mosaic=MOSAIC,\n",
    "    device=DEVICE,\n",
    "    pretrained=PRETRAINED\n",
    ")"
   ],
   "outputs": [],
   "execution_count": null
  },
  {
   "metadata": {},
   "cell_type": "markdown",
   "source": "##### Validation"
  },
  {
   "metadata": {},
   "cell_type": "code",
   "source": "yolo8_x_valid_results = model_yolo8_x.val()",
   "outputs": [],
   "execution_count": null
  },
  {
   "metadata": {},
   "cell_type": "markdown",
   "source": "##### Sample predictions"
  },
  {
   "metadata": {},
   "cell_type": "code",
   "source": "yolo8_x_predictions = model_yolo8_x.predict(RANDOM_PREDICTION_LIST,save=True)",
   "outputs": [],
   "execution_count": null
  },
  {
   "cell_type": "markdown",
   "metadata": {
    "id": "AuzCLv7Fwz_L"
   },
   "source": "#### YOLO 11 - N"
  },
  {
   "cell_type": "markdown",
   "metadata": {
    "id": "pbfim467w-oC"
   },
   "source": "##### Model definition"
  },
  {
   "cell_type": "code",
   "metadata": {
    "colab": {
     "base_uri": "https://localhost:8080/"
    },
    "id": "Bc8nTkLiw-oD",
    "outputId": "189004a0-07a3-4a0d-af6c-499d38c06749"
   },
   "source": [
    "# Loading pretrained model yolo 11 X\n",
    "# Model is downloaded if it does not exist already\n",
    "model_yolo11_n = YOLO(WORKING_DIR / 'yolo11n.pt')"
   ],
   "outputs": [],
   "execution_count": null
  },
  {
   "cell_type": "markdown",
   "metadata": {
    "id": "DuBj3Fq8w7Kz"
   },
   "source": "##### Training"
  },
  {
   "cell_type": "code",
   "metadata": {
    "colab": {
     "base_uri": "https://localhost:8080/"
    },
    "id": "rKWyiJE0w7K0",
    "outputId": "0c808ef6-2ecb-46c1-dafd-76609fb24f08"
   },
   "source": [
    "yolo11_n_train_results = model_yolo11_n.train(\n",
    "    project=OUTPUT_DIR / 'yolo_11_n',\n",
    "    data=DATA,\n",
    "    epochs=300,\n",
    "    patience=15,\n",
    "    mixup=MIXUP,\n",
    "    mosaic=MOSAIC,\n",
    "    device=DEVICE,\n",
    "    pretrained=PRETRAINED,\n",
    ")"
   ],
   "outputs": [],
   "execution_count": null
  },
  {
   "metadata": {},
   "cell_type": "markdown",
   "source": "##### Validation"
  },
  {
   "metadata": {},
   "cell_type": "code",
   "source": "yolo11_n_valid_results = model_yolo11_n.val()",
   "outputs": [],
   "execution_count": null
  },
  {
   "metadata": {},
   "cell_type": "markdown",
   "source": "##### Sample predictions"
  },
  {
   "metadata": {},
   "cell_type": "code",
   "source": "yolo11_n_predictions = model_yolo11_n.predict(RANDOM_PREDICTION_LIST,save=True)",
   "outputs": [],
   "execution_count": null
  },
  {
   "metadata": {},
   "cell_type": "markdown",
   "source": "#### YOLO 11 - X"
  },
  {
   "metadata": {},
   "cell_type": "markdown",
   "source": "##### Model definition"
  },
  {
   "metadata": {},
   "cell_type": "code",
   "source": [
    "# Loading pretrained model yolo 11 X\n",
    "# Model is downloaded if it does not exist already\n",
    "model_yolo11_x = YOLO(WORKING_DIR + '/yolo11x.pt')"
   ],
   "outputs": [],
   "execution_count": null
  },
  {
   "metadata": {},
   "cell_type": "markdown",
   "source": "##### Training"
  },
  {
   "metadata": {},
   "cell_type": "code",
   "source": [
    "yolo11_x_train_results = model_yolo11_x.train(\n",
    "    project=OUTPUT_DIR / 'yolo_11_x',\n",
    "    data=DATA,\n",
    "    epochs=50,\n",
    "    patience=3,\n",
    "    mixup=MIXUP,\n",
    "    mosaic=MOSAIC,\n",
    "    device=DEVICE,\n",
    "    pretrained=PRETRAINED\n",
    ")"
   ],
   "outputs": [],
   "execution_count": null
  },
  {
   "cell_type": "markdown",
   "metadata": {
    "id": "KjYdPvafiZjJ"
   },
   "source": "##### Validation"
  },
  {
   "cell_type": "code",
   "metadata": {
    "colab": {
     "base_uri": "https://localhost:8080/"
    },
    "id": "rEBp3k7siZjJ",
    "outputId": "db5404f2-8ab1-4fe4-e478-a84226f9b3c3"
   },
   "source": "yolo11_x_valid_results = model_yolo11_x.val()",
   "outputs": [],
   "execution_count": null
  },
  {
   "metadata": {},
   "cell_type": "markdown",
   "source": "##### Sample predictions"
  },
  {
   "metadata": {},
   "cell_type": "code",
   "source": "yolo11_x_predictions = model_yolo11_x.predict(RANDOM_PREDICTION_LIST,save=True)",
   "outputs": [],
   "execution_count": null
  },
  {
   "cell_type": "markdown",
   "metadata": {
    "id": "SC6UOwv3iZjJ"
   },
   "source": "## Display results"
  },
  {
   "metadata": {},
   "cell_type": "markdown",
   "source": "### Get results directories"
  },
  {
   "metadata": {},
   "cell_type": "code",
   "source": [
    "models_output = os.listdir(OUTPUT_DIR)\n",
    "for model_id, model in enumerate(models_output):\n",
    "    print(id, model)"
   ],
   "outputs": [],
   "execution_count": null
  },
  {
   "metadata": {},
   "cell_type": "markdown",
   "source": "### Select model"
  },
  {
   "metadata": {},
   "cell_type": "code",
   "source": [
    "# select model\n",
    "selected_model = models_output[0]\n",
    "\n",
    "selected_output_path_1 = OUTPUT_DIR / selected_model / 'train'\n",
    "selected_output_path_2 = OUTPUT_DIR / selected_model / 'train2'\n",
    "selected_output_path_3 = OUTPUT_DIR / selected_model / 'train3'"
   ],
   "outputs": [],
   "execution_count": null
  },
  {
   "metadata": {},
   "cell_type": "markdown",
   "source": "### Stats"
  },
  {
   "metadata": {},
   "cell_type": "markdown",
   "source": "#### General stats"
  },
  {
   "cell_type": "code",
   "metadata": {
    "colab": {
     "base_uri": "https://localhost:8080/",
     "height": 424
    },
    "id": "n89h250NiZjJ",
    "outputId": "6163971a-ae5c-410f-b8d2-635fc5cefa3d"
   },
   "source": [
    "plt.figure(figsize=(10,20))\n",
    "plt.imshow(Image.open(selected_output_path_1/ 'results.png'))\n",
    "plt.axis('off')\n",
    "plt.show()"
   ],
   "outputs": [],
   "execution_count": null
  },
  {
   "metadata": {},
   "cell_type": "markdown",
   "source": "#### Confusion Matrix"
  },
  {
   "metadata": {},
   "cell_type": "markdown",
   "source": "##### Absolut"
  },
  {
   "cell_type": "code",
   "metadata": {
    "colab": {
     "base_uri": "https://localhost:8080/",
     "height": 618
    },
    "id": "COlWah4ViZjJ",
    "outputId": "5a4abbad-c689-4f65-e6ea-4d08890c3321"
   },
   "source": [
    "plt.figure(figsize=(10,20))\n",
    "plt.imshow(Image.open(selected_output_path_1 / 'confusion_matrix.png'))\n",
    "plt.axis('off')\n",
    "plt.show()"
   ],
   "outputs": [],
   "execution_count": null
  },
  {
   "metadata": {},
   "cell_type": "markdown",
   "source": "##### Normalized"
  },
  {
   "metadata": {},
   "cell_type": "code",
   "source": [
    "plt.figure(figsize=(10,20))\n",
    "plt.imshow(Image.open(selected_output_path_1 / 'confusion_matrix_normalized.png'))\n",
    "plt.axis('off')\n",
    "plt.show()"
   ],
   "outputs": [],
   "execution_count": null
  },
  {
   "metadata": {},
   "cell_type": "markdown",
   "source": "#### Other Stats"
  },
  {
   "metadata": {},
   "cell_type": "markdown",
   "source": "##### F1-Confidence Curve"
  },
  {
   "metadata": {},
   "cell_type": "code",
   "source": [
    "plt.figure(figsize=(10,20))\n",
    "plt.imshow(Image.open(selected_output_path_1 / 'F1_curve.png'))\n",
    "plt.axis('off')\n",
    "plt.show()"
   ],
   "outputs": [],
   "execution_count": null
  },
  {
   "metadata": {},
   "cell_type": "markdown",
   "source": "##### Precision-Confidence Curve"
  },
  {
   "metadata": {},
   "cell_type": "code",
   "source": [
    "plt.figure(figsize=(10,20))\n",
    "plt.imshow(Image.open(selected_output_path_1 / 'P_curve.png'))\n",
    "plt.axis('off')\n",
    "plt.show()"
   ],
   "outputs": [],
   "execution_count": null
  },
  {
   "metadata": {},
   "cell_type": "markdown",
   "source": "##### Recall-Confidence Curve"
  },
  {
   "metadata": {},
   "cell_type": "code",
   "source": [
    "plt.figure(figsize=(10,20))\n",
    "plt.imshow(Image.open(selected_output_path_1 / 'R_curve.png'))\n",
    "plt.axis('off')\n",
    "plt.show()"
   ],
   "outputs": [],
   "execution_count": null
  },
  {
   "metadata": {},
   "cell_type": "markdown",
   "source": "##### Precision-Recall Curve"
  },
  {
   "metadata": {},
   "cell_type": "code",
   "source": [
    "plt.figure(figsize=(10,20))\n",
    "plt.imshow(Image.open(selected_output_path_1 / 'PR_curve.png'))\n",
    "plt.axis('off')\n",
    "plt.show()"
   ],
   "outputs": [],
   "execution_count": null
  },
  {
   "metadata": {},
   "cell_type": "markdown",
   "source": "#### Stats per epochs"
  },
  {
   "metadata": {},
   "cell_type": "code",
   "source": [
    "df_results = pd.read_csv(selected_output_path_1 / 'results.csv', sep=\",\")\n",
    "df_results"
   ],
   "outputs": [],
   "execution_count": null
  },
  {
   "metadata": {},
   "cell_type": "markdown",
   "source": "### Results"
  },
  {
   "metadata": {},
   "cell_type": "markdown",
   "source": "#### Validation"
  },
  {
   "metadata": {},
   "cell_type": "markdown",
   "source": "Images on the left are the labeled image from the dataset the right images are the predictions"
  },
  {
   "metadata": {},
   "cell_type": "code",
   "source": [
    "fig, axes = plt.subplots(ncols=2, nrows=2)\n",
    "images = [\n",
    "    selected_output_path_2 / 'val_batch0_labels.jpg',\n",
    "    selected_output_path_2 / 'val_batch0_pred.jpg',\n",
    "    selected_output_path_2 / 'val_batch1_labels.jpg',\n",
    "    selected_output_path_2 / 'val_batch1_pred.jpg']\n",
    "\n",
    "for ax, img in zip(axes.flatten(), images):\n",
    "    ax.imshow(Image.open(img))\n",
    "    ax.axis('off')\n",
    "\n",
    "fig.set_size_inches(40,15)\n",
    "plt.subplots_adjust(wspace=0.02, hspace=0)\n",
    "plt.show()"
   ],
   "outputs": [],
   "execution_count": null
  },
  {
   "metadata": {},
   "cell_type": "markdown",
   "source": "#### Random predictions"
  },
  {
   "metadata": {},
   "cell_type": "code",
   "source": [
    "# Get predicction images\n",
    "predictions = list(selected_output_path_3.glob('*'))\n",
    "predictions"
   ],
   "outputs": [],
   "execution_count": null
  },
  {
   "metadata": {},
   "cell_type": "code",
   "source": [
    "# Display prediction images\n",
    "def plot_images(prediction_images):\n",
    "    num_images = len(prediction_images)\n",
    "    rows = num_images\n",
    "    cols = 1\n",
    "    fig, axes = plt.subplots(rows, cols, figsize=(15, 40))\n",
    "    for ax in axes.flat:\n",
    "        ax.axis('off')\n",
    "    for i, img_path in enumerate(prediction_images):\n",
    "        img = Image.open(img_path)\n",
    "        axes[i].imshow(img)\n",
    "\n",
    "    plt.tight_layout()\n",
    "    plt.show()\n",
    "\n",
    "plot_images(predictions)"
   ],
   "outputs": [],
   "execution_count": null
  },
  {
   "metadata": {},
   "cell_type": "markdown",
   "source": "## Save and move results"
  },
  {
   "metadata": {},
   "cell_type": "markdown",
   "source": "### Get current date"
  },
  {
   "metadata": {},
   "cell_type": "code",
   "source": [
    "from datetime import datetime\n",
    "now = datetime.now()\n",
    "\n",
    "# Format the date and time as a string\n",
    "date_time_str = now.strftime('%Y-%m-%d_%H-%M-%S')\n",
    "print(date_time_str)"
   ],
   "outputs": [],
   "execution_count": null
  },
  {
   "metadata": {},
   "cell_type": "markdown",
   "source": "### Create directory"
  },
  {
   "metadata": {},
   "cell_type": "code",
   "source": [
    "# Create a directory named after the current date and time\n",
    "current_result_path = RESULTS_DIR / date_time_str\n",
    "valid_path = current_result_path.resolve()\n",
    "valid_path.mkdir(exist_ok=True)"
   ],
   "outputs": [],
   "execution_count": null
  },
  {
   "metadata": {},
   "cell_type": "markdown",
   "source": "### Get folders in output dir"
  },
  {
   "metadata": {},
   "cell_type": "code",
   "source": [
    "models_output = os.listdir(OUTPUT_DIR)\n",
    "models_output"
   ],
   "outputs": [],
   "execution_count": null
  },
  {
   "metadata": {},
   "cell_type": "markdown",
   "source": "### Copy output"
  },
  {
   "metadata": {},
   "cell_type": "code",
   "source": [
    "# Copy output folders to results\n",
    "for output_folder_name in models_output:\n",
    "    current_output_path = OUTPUT_DIR / output_folder_name\n",
    "    if os.path.exists(current_output_path):\n",
    "        shutil.move(current_output_path, current_result_path / output_folder_name)"
   ],
   "outputs": [],
   "execution_count": null
  },
  {
   "cell_type": "markdown",
   "metadata": {
    "id": "gu29HnX6iZjK"
   },
   "source": "## Cleanup"
  },
  {
   "metadata": {},
   "cell_type": "markdown",
   "source": "### General"
  },
  {
   "metadata": {},
   "cell_type": "code",
   "source": "shutil.rmtree(WORKING_DIR)",
   "outputs": [],
   "execution_count": null
  },
  {
   "cell_type": "code",
   "metadata": {
    "id": "7ROT_QHyiZjK"
   },
   "source": "shutil.rmtree(OUTPUT_DIR)",
   "outputs": [],
   "execution_count": null
  },
  {
   "metadata": {},
   "cell_type": "markdown",
   "source": "### Further"
  },
  {
   "metadata": {},
   "cell_type": "code",
   "source": "shutil.rmtree(KAGGLE_DIR)",
   "outputs": [],
   "execution_count": null
  },
  {
   "metadata": {},
   "cell_type": "markdown",
   "source": " # Appendix"
  },
  {
   "metadata": {},
   "cell_type": "markdown",
   "source": "## Convert YOLO Dataset to COCO for other models"
  },
  {
   "metadata": {},
   "cell_type": "markdown",
   "source": "### Setup"
  },
  {
   "metadata": {},
   "cell_type": "code",
   "source": "!pip install globox",
   "outputs": [],
   "execution_count": null
  },
  {
   "metadata": {},
   "cell_type": "code",
   "source": [
    "import globox\n",
    "from pathlib import Path"
   ],
   "outputs": [],
   "execution_count": null
  },
  {
   "metadata": {},
   "cell_type": "code",
   "source": "COCO_ANNOTATIONS_PATH = WORKING_DIR / 'annotation'",
   "outputs": [],
   "execution_count": null
  },
  {
   "metadata": {},
   "cell_type": "code",
   "source": "COCO_ANNOTATIONS_PATH.mkdir(exist_ok=True)",
   "outputs": [],
   "execution_count": null
  },
  {
   "metadata": {},
   "cell_type": "markdown",
   "source": "### Create .name file"
  },
  {
   "metadata": {},
   "cell_type": "code",
   "source": "yolo_name_path = WORKING_DIR / 'yolo.name'",
   "outputs": [],
   "execution_count": null
  },
  {
   "metadata": {},
   "cell_type": "code",
   "source": [
    "with open(yolo_name_path, 'w') as name_file:\n",
    "    for index, label in KEEP_LABELS.items():\n",
    "        print(label[0])\n",
    "        name_file.write(label[0]+ \"\\n\")"
   ],
   "outputs": [],
   "execution_count": null
  },
  {
   "metadata": {},
   "cell_type": "code",
   "source": [
    "# Load .name file with globox\n",
    "yolo_names = globox.AnnotationSet.parse_names_file(yolo_name_path)"
   ],
   "outputs": [],
   "execution_count": null
  },
  {
   "metadata": {},
   "cell_type": "markdown",
   "source": "### Convert train dataset"
  },
  {
   "metadata": {},
   "cell_type": "code",
   "source": [
    "# Load dataset into globox\n",
    "yolo_train = globox.AnnotationSet.from_yolo_v5(\n",
    "    folder=train_path,\n",
    "    image_folder=train_path)"
   ],
   "outputs": [],
   "execution_count": null
  },
  {
   "metadata": {},
   "cell_type": "code",
   "source": [
    "# Add labels into globox\n",
    "yolo_train.map_labels(yolo_names)"
   ],
   "outputs": [],
   "execution_count": null
  },
  {
   "metadata": {},
   "cell_type": "code",
   "source": [
    "# Show information about the dataset\n",
    "yolo_train.show_stats()"
   ],
   "outputs": [],
   "execution_count": null
  },
  {
   "metadata": {},
   "cell_type": "code",
   "source": [
    "# Convert the dataset to the coco format\n",
    "yolo_train.save_coco(\n",
    "    COCO_ANNOTATIONS_PATH / 'coco_train.json',\n",
    "    auto_ids=True\n",
    ")"
   ],
   "outputs": [],
   "execution_count": null
  },
  {
   "metadata": {},
   "cell_type": "markdown",
   "source": "### Convert test dataset"
  },
  {
   "metadata": {},
   "cell_type": "code",
   "source": [
    "# Load dataset into globox\n",
    "yolo_test = globox.AnnotationSet.from_yolo_v5(\n",
    "    folder=valid_path,\n",
    "    image_folder=valid_path)"
   ],
   "outputs": [],
   "execution_count": null
  },
  {
   "metadata": {},
   "cell_type": "code",
   "source": [
    "# Add labels into globox\n",
    "yolo_test.map_labels(yolo_names)"
   ],
   "outputs": [],
   "execution_count": null
  },
  {
   "metadata": {},
   "cell_type": "code",
   "source": [
    "# Show information about the dataset\n",
    "yolo_test.show_stats()"
   ],
   "outputs": [],
   "execution_count": null
  },
  {
   "metadata": {},
   "cell_type": "code",
   "source": [
    "# Convert the dataset to the coco format\n",
    "yolo_test.save_coco(\n",
    "    COCO_ANNOTATIONS_PATH / 'coco_valid.json',\n",
    "    auto_ids=True\n",
    ")"
   ],
   "outputs": [],
   "execution_count": null
  }
 ],
 "metadata": {
  "colab": {
   "provenance": []
  },
  "kaggle": {
   "accelerator": "gpu",
   "dataSources": [
    {
     "datasetId": 976194,
     "sourceId": 1650695,
     "sourceType": "datasetVersion"
    },
    {
     "datasetId": 3673013,
     "sourceId": 6374376,
     "sourceType": "datasetVersion"
    }
   ],
   "dockerImageVersionId": 30527,
   "isGpuEnabled": true,
   "isInternetEnabled": false,
   "language": "python",
   "sourceType": "notebook"
  },
  "kernelspec": {
   "display_name": "Python 3 (ipykernel)",
   "name": "python3",
   "language": "python"
  },
  "language_info": {
   "codemirror_mode": {
    "name": "ipython",
    "version": 3
   },
   "file_extension": ".py",
   "mimetype": "text/x-python",
   "name": "python",
   "nbconvert_exporter": "python",
   "pygments_lexer": "ipython3",
   "version": "3.6.4"
  }
 },
 "nbformat": 4,
 "nbformat_minor": 0
}
